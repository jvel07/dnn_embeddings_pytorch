{
 "cells": [
  {
   "cell_type": "code",
   "execution_count": null,
   "metadata": {
    "collapsed": true,
    "pycharm": {
     "is_executing": true
    }
   },
   "outputs": [],
   "source": [
    "import pandas as pd\n",
    "df = pd.read_csv('/tmp/pycharm_project_504/data/text/lab_manual_vagott/008B1_szurke_vagott.lab',\n",
    "                 sep='\\n', header=None, encoding='unicode_escape')\n",
    "df.columns=['token']\n",
    "sil_idx = df.index[df['token'] == '[SIL]'].tolist()\n",
    "ee_idx = df.index[df['token'] == '[EE]'].tolist()\n",
    "breath_idx = df.index[df['token'] == '[BREATH]'].tolist()\n",
    "mm_idx = df.index[df['token'] == '[MM]'].tolist()\n",
    "no_marks_df = df.drop(df.index[sil_idx+ee_idx+breath_idx+mm_idx])"
   ]
  },
  {
   "cell_type": "code",
   "execution_count": 4,
   "outputs": [],
   "source": [
    "ser = no_marks_df.squeeze()\n",
    "ser = ser.str.lower()\n",
    "sample_txt = ser.str.cat(sep=\" \")\n",
    "sample_txt\n"
   ],
   "metadata": {
    "collapsed": false,
    "pycharm": {
     "name": "#%%\n"
    }
   }
  },
  {
   "cell_type": "code",
   "execution_count": null,
   "outputs": [],
   "source": [
    "from transformers import BertTokenizer, BertModel\n",
    "# tokenizer = BertTokenizer.from_pretrained('SZTAKI-HLT/hubert-base-cc')\n",
    "# model = BertModel.from_pretrained(\"SZTAKI-HLT/hubert-base-cc\")\n",
    "\n",
    "tokenizer = BertTokenizer.from_pretrained('distilbert-base-multilingual-cased')\n",
    "model = BertModel.from_pretrained(\"distilbert-base-multilingual-cased\")\n",
    "\n",
    "encoding = tokenizer.encode_plus(\n",
    "  sample_txt,\n",
    "  max_length=32,\n",
    "  add_special_tokens=True, # Add '[CLS]' and '[SEP]'\n",
    "  return_token_type_ids=False,\n",
    "  pad_to_max_length=True,\n",
    "  return_attention_mask=True,\n",
    "  return_tensors='pt',  # Return PyTorch tensors\n",
    ")\n",
    "\n",
    "encoding.keys()\n",
    "\n",
    "tokenizer.convert_ids_to_tokens(encoding['input_ids'][0])\n"
   ],
   "metadata": {
    "collapsed": false,
    "pycharm": {
     "name": "#%%\n"
    }
   }
  },
  {
   "cell_type": "code",
   "execution_count": 13,
   "outputs": [
    {
     "data": {
      "text/plain": "'/home/user'"
     },
     "execution_count": 13,
     "metadata": {},
     "output_type": "execute_result"
    }
   ],
   "source": [
    "import os\n",
    "os.getcwd()"
   ],
   "metadata": {
    "collapsed": false,
    "pycharm": {
     "name": "#%%\n"
    }
   }
  }
 ],
 "metadata": {
  "kernelspec": {
   "display_name": "Python 3",
   "language": "python",
   "name": "python3"
  },
  "language_info": {
   "codemirror_mode": {
    "name": "ipython",
    "version": 2
   },
   "file_extension": ".py",
   "mimetype": "text/x-python",
   "name": "python",
   "nbconvert_exporter": "python",
   "pygments_lexer": "ipython2",
   "version": "2.7.6"
  }
 },
 "nbformat": 4,
 "nbformat_minor": 0
}