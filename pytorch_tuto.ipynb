{
 "cells": [
  {
   "cell_type": "code",
   "execution_count": 1,
   "metadata": {},
   "outputs": [],
   "source": [
    "import torch\n",
    "import torchvision\n",
    "import torchvision.transforms as transforms\n",
    "import torch.nn as nn\n",
    "import torch.nn.functional as F\n",
    "import torch.optim as optim\n",
    "import pandas as pd\n",
    "import numpy as np"
   ]
  },
  {
   "cell_type": "code",
   "execution_count": 2,
   "metadata": {
    "pycharm": {
     "name": "#%%\n"
    }
   },
   "outputs": [],
   "source": [
    "# define GPU\n",
    "device = torch.device(\"cuda:0\" if torch.cuda.is_available() else \"cpu\")"
   ]
  },
  {
   "cell_type": "code",
   "execution_count": 3,
   "metadata": {
    "pycharm": {
     "name": "#%%\n"
    }
   },
   "outputs": [
    {
     "name": "stdout",
     "output_type": "stream",
     "text": [
      "/media/jose/hk-data/PycharmProjects/the_speech/data/sleepiness/train/mfcc_sleepiness_23_train_0del.mfcc\n",
      "/media/jose/hk-data/PycharmProjects/the_speech/data/sleepiness/dev/mfcc_sleepiness_23_dev_0del.mfcc\n",
      "/media/jose/hk-data/PycharmProjects/the_speech/data/sleepiness/test/mfcc_sleepiness_23_test_0del.mfcc\n"
     ]
    }
   ],
   "source": [
    "# Function for loading data\n",
    "sets = {}\n",
    "for _set in ['train', 'dev', 'test']:\n",
    "    file_feats = '/media/jose/hk-data/PycharmProjects/the_speech/data/sleepiness/{0}/mfcc_sleepiness_23_{0}_0del.mfcc'.format(_set)\n",
    "    print(file_feats)\n",
    "    sets['x_'+_set] = np.load(file_feats, allow_pickle=True)\n",
    "    \n",
    "# x_train = torch.from_numpy(sets['x_train'])\n",
    "# x_dev = torch.from_numpy(sets['x_dev'])\n",
    "# x_test = torch.from_numpy(sets['x_test'])\n"
   ]
  },
  {
   "cell_type": "code",
   "execution_count": 5,
   "metadata": {},
   "outputs": [
    {
     "name": "stdout",
     "output_type": "stream",
     "text": [
      "[[ 2.1673120e+01 -8.1400909e+00  8.6047840e-01 ...  2.2953606e-01\n",
      "   8.2762718e-02 -3.6067128e-02]\n",
      " [ 2.0726582e+01  1.5244560e+00  2.0444315e+01 ... -1.1006370e+00\n",
      "  -1.2069714e+00 -1.2010527e-01]\n",
      " [ 2.0596664e+01  1.9958973e+00  1.6893761e+01 ...  1.0933818e+00\n",
      "   4.0503311e-01 -4.2310047e-01]\n",
      " ...\n",
      " [ 1.9835722e+01 -3.6898083e+01  1.3698262e+01 ... -2.0012975e+00\n",
      "  -2.5502479e-01 -1.2310663e-01]\n",
      " [ 2.1561762e+01 -2.7597805e+01  2.0444315e+01 ...  6.9345319e-01\n",
      "  -2.8573275e-01 -4.5071214e-02]\n",
      " [ 2.1803038e+01 -1.2484856e+01  9.9821949e+00 ...  1.6283894e+00\n",
      "  -4.0856457e-01  1.4956027e-02]]\n"
     ]
    }
   ],
   "source": [
    "print(sets['x_train'][0])"
   ]
  },
  {
   "cell_type": "code",
   "execution_count": 26,
   "metadata": {
    "pycharm": {
     "name": "#%%\n"
    }
   },
   "outputs": [
    {
     "data": {
      "text/plain": [
       "xvecTDNN(\n",
       "  (tdnn1): Conv1d(30, 512, kernel_size=(5,), stride=(1,))\n",
       "  (bn_tdnn1): BatchNorm1d(512, eps=1e-05, momentum=0.1, affine=False, track_running_stats=True)\n",
       "  (dropout_tdnn1): Dropout(p=0.5, inplace=False)\n",
       "  (tdnn2): Conv1d(512, 512, kernel_size=(5,), stride=(1,), dilation=(2,))\n",
       "  (bn_tdnn2): BatchNorm1d(512, eps=1e-05, momentum=0.1, affine=False, track_running_stats=True)\n",
       "  (dropout_tdnn2): Dropout(p=0.5, inplace=False)\n",
       "  (tdnn3): Conv1d(512, 512, kernel_size=(7,), stride=(1,), dilation=(3,))\n",
       "  (bn_tdnn3): BatchNorm1d(512, eps=1e-05, momentum=0.1, affine=False, track_running_stats=True)\n",
       "  (dropout_tdnn3): Dropout(p=0.5, inplace=False)\n",
       "  (tdnn4): Conv1d(512, 512, kernel_size=(1,), stride=(1,))\n",
       "  (bn_tdnn4): BatchNorm1d(512, eps=1e-05, momentum=0.1, affine=False, track_running_stats=True)\n",
       "  (dropout_tdnn4): Dropout(p=0.5, inplace=False)\n",
       "  (tdnn5): Conv1d(512, 1500, kernel_size=(1,), stride=(1,))\n",
       "  (bn_tdnn5): BatchNorm1d(1500, eps=1e-05, momentum=0.1, affine=False, track_running_stats=True)\n",
       "  (dropout_tdnn5): Dropout(p=0.5, inplace=False)\n",
       "  (fc1): Linear(in_features=3000, out_features=512, bias=True)\n",
       "  (bn_fc1): BatchNorm1d(512, eps=1e-05, momentum=0.1, affine=False, track_running_stats=True)\n",
       "  (dropout_fc1): Dropout(p=0.5, inplace=False)\n",
       "  (fc2): Linear(in_features=512, out_features=512, bias=True)\n",
       "  (bn_fc2): BatchNorm1d(512, eps=1e-05, momentum=0.1, affine=False, track_running_stats=True)\n",
       "  (dropout_fc2): Dropout(p=0.5, inplace=False)\n",
       "  (fc3): Linear(in_features=512, out_features=8, bias=True)\n",
       ")"
      ]
     },
     "execution_count": 26,
     "metadata": {},
     "output_type": "execute_result"
    }
   ],
   "source": [
    "# define CNN\n",
    "'''\n",
    "TDNN as defined by https://www.danielpovey.com/files/2015_interspeech_multisplice.pdf\n",
    "Affine transformation not applied globally to all frames but smaller windows with local context\n",
    "batch_norm: True to include batch normalisation after the non linearity\n",
    "\n",
    "Context size and dilation determine the frames selected\n",
    "(although context size is not really defined in the traditional sense)\n",
    "For example:\n",
    "    context size 5 and dilation 1 is equivalent to [-2,-1,0,1,2]\n",
    "    context size 3 and dilation 2 is equivalent to [-2, 0, 2]\n",
    "    context size 1 and dilation 1 is equivalent to [0]\n",
    "'''\n",
    "\n",
    "class xvecTDNN(nn.Module):\n",
    "    def __init__(self, n_classes, p_dropout):\n",
    "        super(xvecTDNN, self).__init__()\n",
    "        self.tdnn1 = nn.Conv1d(in_channels=30, out_channels=512, kernel_size=5, dilation=1)\n",
    "        self.bn_tdnn1 = nn.BatchNorm1d(512, momentum=0.1, affine=False)\n",
    "        self.dropout_tdnn1 = nn.Dropout(p=p_dropout)\n",
    "\n",
    "        self.tdnn2 = nn.Conv1d(in_channels=512, out_channels=512, kernel_size=5, dilation=2)\n",
    "        self.bn_tdnn2 = nn.BatchNorm1d(512, momentum=0.1, affine=False)\n",
    "        self.dropout_tdnn2 = nn.Dropout(p=p_dropout)\n",
    "\n",
    "        self.tdnn3 = nn.Conv1d(in_channels=512, out_channels=512, kernel_size=7, dilation=3)\n",
    "        self.bn_tdnn3 = nn.BatchNorm1d(512, momentum=0.1, affine=False)\n",
    "        self.dropout_tdnn3 = nn.Dropout(p=p_dropout)\n",
    "\n",
    "        self.tdnn4 = nn.Conv1d(in_channels=512, out_channels=512, kernel_size=1, dilation=1)\n",
    "        self.bn_tdnn4 = nn.BatchNorm1d(512, momentum=0.1, affine=False)\n",
    "        self.dropout_tdnn4 = nn.Dropout(p=p_dropout)\n",
    "\n",
    "        self.tdnn5 = nn.Conv1d(in_channels=512, out_channels=1500, kernel_size=1, dilation=1)\n",
    "        self.bn_tdnn5 = nn.BatchNorm1d(1500, momentum=0.1, affine=False)\n",
    "        self.dropout_tdnn5 = nn.Dropout(p=p_dropout)\n",
    "\n",
    "        self.fc1 = nn.Linear(3000,512)\n",
    "        self.bn_fc1 = nn.BatchNorm1d(512, momentum=0.1, affine=False)\n",
    "        self.dropout_fc1 = nn.Dropout(p=p_dropout)\n",
    "\n",
    "        self.fc2 = nn.Linear(512,512)\n",
    "        self.bn_fc2 = nn.BatchNorm1d(512, momentum=0.1, affine=False)\n",
    "        self.dropout_fc2 = nn.Dropout(p=p_dropout)\n",
    "\n",
    "        self.fc3 = nn.Linear(512,n_classes)\n",
    "\n",
    "    def forward(self, x, eps):\n",
    "        # Note: x must be (batch_size, feat_dim, chunk_len)\n",
    "\n",
    "        x = self.dropout_tdnn1(self.bn_tdnn1(F.relu(self.tdnn1(x))))\n",
    "        x = self.dropout_tdnn2(self.bn_tdnn2(F.relu(self.tdnn2(x))))\n",
    "        x = self.dropout_tdnn3(self.bn_tdnn3(F.relu(self.tdnn3(x))))\n",
    "        x = self.dropout_tdnn4(self.bn_tdnn4(F.relu(self.tdnn4(x))))\n",
    "        x = self.dropout_tdnn5(self.bn_tdnn5(F.relu(self.tdnn5(x))))\n",
    "\n",
    "        if self.training:\n",
    "            shape = x.size()\n",
    "            noise = torch.cuda.FloatTensor(shape)\n",
    "            torch.randn(shape, out=noise)\n",
    "            x += noise*eps\n",
    "\n",
    "        stats = torch.cat((x.mean(dim=2), x.std(dim=2)), dim=1)\n",
    "        x = self.dropout_fc1(self.bn_fc1(F.relu(self.fc1(stats))))\n",
    "        x = self.dropout_fc2(self.bn_fc2(F.relu(self.fc2(x))))\n",
    "        x = self.fc3(x)\n",
    "        return x\n",
    "\n",
    "\n",
    "net = xvecTDNN(n_classes=8, p_dropout=0.5)\n",
    "# to GPU\n",
    "net.to(device)"
   ]
  },
  {
   "cell_type": "code",
   "execution_count": 16,
   "metadata": {
    "pycharm": {
     "name": "#%%\n"
    }
   },
   "outputs": [],
   "source": [
    "# Define a Loss function and optimizer\n",
    "criterion = nn.CrossEntropyLoss()\n",
    "optimizer = optim.Adam(net.parameters(), lr=0.001)\n"
   ]
  },
  {
   "cell_type": "code",
   "execution_count": 41,
   "metadata": {
    "pycharm": {
     "name": "#%%\n"
    }
   },
   "outputs": [
    {
     "name": "stdout",
     "output_type": "stream",
     "text": [
      "[1,  2000] loss: 2.204\n",
      "[1,  4000] loss: 1.870\n",
      "[1,  6000] loss: 1.655\n",
      "[1,  8000] loss: 1.580\n",
      "[1, 10000] loss: 1.491\n"
     ]
    },
    {
     "ename": "KeyboardInterrupt",
     "evalue": "",
     "output_type": "error",
     "traceback": [
      "\u001b[0;31m---------------------------------------------------------------------------\u001b[0m",
      "\u001b[0;31mKeyboardInterrupt\u001b[0m                         Traceback (most recent call last)",
      "\u001b[0;32m<ipython-input-41-6e291162deec>\u001b[0m in \u001b[0;36m<module>\u001b[0;34m\u001b[0m\n\u001b[1;32m      6\u001b[0m         \u001b[0;31m# get the inputs; data is a list of [inputs, labels]\u001b[0m\u001b[0;34m\u001b[0m\u001b[0;34m\u001b[0m\u001b[0;34m\u001b[0m\u001b[0m\n\u001b[1;32m      7\u001b[0m         \u001b[0;31m# inputs, labels = data # CPU\u001b[0m\u001b[0;34m\u001b[0m\u001b[0;34m\u001b[0m\u001b[0;34m\u001b[0m\u001b[0m\n\u001b[0;32m----> 8\u001b[0;31m         \u001b[0minputs\u001b[0m\u001b[0;34m,\u001b[0m \u001b[0mlabels\u001b[0m \u001b[0;34m=\u001b[0m \u001b[0mdata\u001b[0m\u001b[0;34m[\u001b[0m\u001b[0;36m0\u001b[0m\u001b[0;34m]\u001b[0m\u001b[0;34m.\u001b[0m\u001b[0mto\u001b[0m\u001b[0;34m(\u001b[0m\u001b[0mdevice\u001b[0m\u001b[0;34m)\u001b[0m\u001b[0;34m,\u001b[0m \u001b[0mdata\u001b[0m\u001b[0;34m[\u001b[0m\u001b[0;36m1\u001b[0m\u001b[0;34m]\u001b[0m\u001b[0;34m.\u001b[0m\u001b[0mto\u001b[0m\u001b[0;34m(\u001b[0m\u001b[0mdevice\u001b[0m\u001b[0;34m)\u001b[0m \u001b[0;31m# GPU\u001b[0m\u001b[0;34m\u001b[0m\u001b[0;34m\u001b[0m\u001b[0m\n\u001b[0m\u001b[1;32m      9\u001b[0m \u001b[0;34m\u001b[0m\u001b[0m\n\u001b[1;32m     10\u001b[0m         \u001b[0;31m# zero the parameter gradients\u001b[0m\u001b[0;34m\u001b[0m\u001b[0;34m\u001b[0m\u001b[0;34m\u001b[0m\u001b[0m\n",
      "\u001b[0;31mKeyboardInterrupt\u001b[0m: "
     ]
    }
   ],
   "source": [
    "# Train the network\n",
    "for epoch in range(5):  # loop over the dataset multiple times\n",
    "\n",
    "    running_loss = 0.0\n",
    "    for i, data in enumerate(trainloader, 0):\n",
    "        # get the inputs; data is a list of [inputs, labels]\n",
    "        # inputs, labels = data # CPU\n",
    "        inputs, labels = data[0].to(device), data[1].to(device) # GPU\n",
    "\n",
    "        # zero the parameter gradients\n",
    "        optimizer.zero_grad()\n",
    "\n",
    "        # forward + backward + optimize\n",
    "        outputs = net(inputs)\n",
    "        loss = criterion(outputs, labels)\n",
    "        loss.backward()\n",
    "        optimizer.step()\n",
    "\n",
    "        # print statistics\n",
    "        running_loss += loss.item()\n",
    "        if i % 2000 == 1999:    # print every 2000 mini-batches\n",
    "            print('[%d, %5d] loss: %.3f' %\n",
    "                  (epoch + 1, i + 1, running_loss / 2000))\n",
    "            running_loss = 0.0\n",
    "\n",
    "print('Finished Training')"
   ]
  },
  {
   "cell_type": "code",
   "execution_count": 33,
   "metadata": {},
   "outputs": [],
   "source": [
    "PATH = './cifar_net.pth'\n",
    "torch.save(net.state_dict(), PATH)"
   ]
  },
  {
   "cell_type": "code",
   "execution_count": 29,
   "metadata": {},
   "outputs": [],
   "source": [
    "# test data\n",
    "dataiter = iter(testloader)\n",
    "images, labels = dataiter.next()"
   ]
  },
  {
   "cell_type": "code",
   "execution_count": 30,
   "metadata": {},
   "outputs": [
    {
     "data": {
      "image/png": "[encoded data removed]",
      "text/plain": [
       "<Figure size 432x288 with 1 Axes>"
      ]
     },
     "metadata": {
      "needs_background": "light"
     },
     "output_type": "display_data"
    },
    {
     "name": "stdout",
     "output_type": "stream",
     "text": [
      "GroundTruth:    cat  ship  ship plane\n"
     ]
    }
   ],
   "source": [
    "# print images\n",
    "import matplotlib.pyplot as plt\n",
    "import numpy as np\n",
    "\n",
    "def imshow(img):\n",
    "    img = img / 2 + 0.5     # unnormalize\n",
    "    npimg = img.numpy()\n",
    "    plt.imshow(np.transpose(npimg, (1, 2, 0)))\n",
    "    plt.show()\n",
    "\n",
    "\n",
    "imshow(torchvision.utils.make_grid(images))\n",
    "print('GroundTruth: ', ' '.join('%5s' % classes[labels[j]] for j in range(4)))"
   ]
  },
  {
   "cell_type": "code",
   "execution_count": 34,
   "metadata": {},
   "outputs": [
    {
     "data": {
      "text/plain": [
       "<All keys matched successfully>"
      ]
     },
     "execution_count": 34,
     "metadata": {},
     "output_type": "execute_result"
    }
   ],
   "source": [
    "net = Net()\n",
    "net.load_state_dict(torch.load(PATH))"
   ]
  },
  {
   "cell_type": "code",
   "execution_count": 35,
   "metadata": {},
   "outputs": [],
   "source": [
    "outputs = net(images)"
   ]
  },
  {
   "cell_type": "code",
   "execution_count": 36,
   "metadata": {},
   "outputs": [
    {
     "name": "stdout",
     "output_type": "stream",
     "text": [
      "Accuracy of the network on the 10000 test images: 59 %\n"
     ]
    }
   ],
   "source": [
    "correct = 0\n",
    "total = 0\n",
    "with torch.no_grad():\n",
    "    for data in testloader:\n",
    "        images, labels = data\n",
    "        outputs = net(images)\n",
    "        _, predicted = torch.max(outputs.data, 1)\n",
    "        total += labels.size(0)\n",
    "        correct += (predicted == labels).sum().item()\n",
    "\n",
    "print('Accuracy of the network on the 10000 test images: %d %%' % (\n",
    "    100 * correct / total))"
   ]
  },
  {
   "cell_type": "code",
   "execution_count": null,
   "metadata": {},
   "outputs": [],
   "source": []
  }
 ],
 "metadata": {
  "kernelspec": {
   "display_name": "Python 3",
   "language": "python",
   "name": "python3"
  },
  "language_info": {
   "codemirror_mode": {
    "name": "ipython",
    "version": 3
   },
   "file_extension": ".py",
   "mimetype": "text/x-python",
   "name": "python",
   "nbconvert_exporter": "python",
   "pygments_lexer": "ipython3",
   "version": "3.7.6"
  }
 },
 "nbformat": 4,
 "nbformat_minor": 1
}
